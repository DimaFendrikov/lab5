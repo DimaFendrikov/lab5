{
  "nbformat": 4,
  "nbformat_minor": 0,
  "metadata": {
    "colab": {
      "provenance": [],
      "authorship_tag": "ABX9TyNyZ0FeOjaZoCmQ2w6x/Ie/",
      "include_colab_link": true
    },
    "kernelspec": {
      "name": "python3",
      "display_name": "Python 3"
    },
    "language_info": {
      "name": "python"
    }
  },
  "cells": [
    {
      "cell_type": "markdown",
      "metadata": {
        "id": "view-in-github",
        "colab_type": "text"
      },
      "source": [
        "<a href=\"https://colab.research.google.com/github/DimaFendrikov/lab5/blob/main/lab5.ipynb\" target=\"_parent\"><img src=\"https://colab.research.google.com/assets/colab-badge.svg\" alt=\"Open In Colab\"/></a>"
      ]
    },
    {
      "cell_type": "code",
      "execution_count": 1,
      "metadata": {
        "colab": {
          "base_uri": "https://localhost:8080/"
        },
        "id": "SCb2UJdaYpmw",
        "outputId": "139a54b0-3c4d-4b50-d884-735ccd0a0d44"
      },
      "outputs": [
        {
          "output_type": "stream",
          "name": "stdout",
          "text": [
            "30\n",
            "Дані з кешу:\n",
            "30\n",
            "hello world\n",
            "Дані з кешу:\n",
            "hello world\n",
            "3\n",
            "6\n",
            "Дані з кешу:\n",
            "3\n"
          ]
        }
      ],
      "source": [
        "from functools import wraps\n",
        "\n",
        "def my_cache(func):\n",
        "    cache = {}\n",
        "\n",
        "    @wraps(func)\n",
        "    def new_function(*args, **kwargs):\n",
        "        key = (args, tuple(kwargs.items()))\n",
        "\n",
        "        if key in cache:\n",
        "            print(\"Дані з кешу:\")\n",
        "            return cache[key]\n",
        "\n",
        "        result = func(*args, **kwargs)\n",
        "        cache[key] = result\n",
        "        return result\n",
        "\n",
        "    return new_function\n",
        "\n",
        "@my_cache\n",
        "def multiply(a, b):\n",
        "    return a * b\n",
        "\n",
        "@my_cache\n",
        "def string(*strings):\n",
        "    return ' '.join(strings)\n",
        "\n",
        "@my_cache\n",
        "def sum(a, b, c=0):\n",
        "    return a + b + c\n",
        "\n",
        "print(multiply(5, 6))\n",
        "print(multiply(5, 6))\n",
        "\n",
        "print(string(\"hello\", \"world\"))\n",
        "print(string(\"hello\", \"world\"))\n",
        "\n",
        "print(sum(1, 2))\n",
        "print(sum(1, 2, 3))\n",
        "print(sum(1, 2))"
      ]
    }
  ]
}